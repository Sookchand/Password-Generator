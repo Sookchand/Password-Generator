{
  "nbformat": 4,
  "nbformat_minor": 0,
  "metadata": {
    "colab": {
      "provenance": []
    },
    "kernelspec": {
      "name": "python3",
      "display_name": "Python 3"
    },
    "language_info": {
      "name": "python"
    }
  },
  "cells": [
    {
      "cell_type": "code",
      "execution_count": 9,
      "metadata": {
        "id": "yNdPsBd6GwD6",
        "colab": {
          "base_uri": "https://localhost:8080/"
        },
        "outputId": "9dfdfd9f-d553-410e-8f60-7af7a3b134a2"
      },
      "outputs": [
        {
          "output_type": "stream",
          "name": "stdout",
          "text": [
            "Welcome to the PyPassword Generator!\n",
            "How many letters would you like in your password?\n",
            "3\n",
            "How many symbols would you like?\n",
            "3\n",
            "How many numbers would you like?\n",
            "3\n",
            "Your password is: %!uF42*4R\n"
          ]
        }
      ],
      "source": [
        "#Password Generator Project\n",
        "import random\n",
        "letters = ['a', 'b', 'c', 'd', 'e', 'f', 'g', 'h', 'i', 'j', 'k', 'l', 'm', 'n', 'o', 'p', 'q', 'r', 's', 't', 'u', 'v', 'w', 'x', 'y', 'z', 'A', 'B', 'C', 'D', 'E', 'F', 'G', 'H', 'I', 'J', 'K', 'L', 'M', 'N', 'O', 'P', 'Q', 'R', 'S', 'T', 'U', 'V', 'W', 'X', 'Y', 'Z']\n",
        "numbers = ['0', '1', '2', '3', '4', '5', '6', '7', '8', '9']\n",
        "symbols = ['!', '#', '$', '%', '&', '(', ')', '*', '+']\n",
        "\n",
        "print(\"Welcome to the PyPassword Generator!\")\n",
        "nr_letters= int(input(\"How many letters would you like in your password?\\n\"))\n",
        "nr_symbols = int(input(f\"How many symbols would you like?\\n\"))\n",
        "nr_numbers = int(input(f\"How many numbers would you like?\\n\"))\n",
        "\n",
        "import random\n",
        "# Use random.choices() instead of random.sample() to allow repeating characters\n",
        "password_letters = random.choices(letters, k=nr_letters)\n",
        "password_symbols = random.choices(symbols, k=nr_symbols)\n",
        "password_numbers = random.choices(numbers, k=nr_numbers)\n",
        "\n",
        "# Create the password list\n",
        "password_list = password_letters + password_symbols + password_numbers\n",
        "\n",
        "# Shuffle the list\n",
        "random.shuffle(password_list)\n",
        "\n",
        "# Convert the list back to a string\n",
        "password = ''.join(password_list)\n",
        "\n",
        "print(f\"Your password is: {password}\")\n",
        "\n"
      ]
    }
  ]
}